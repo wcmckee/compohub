{
 "metadata": {
  "name": "pycompohub"
 },
 "nbformat": 3,
 "nbformat_minor": 0,
 "worksheets": [
  {
   "cells": [
    {
     "cell_type": "code",
     "collapsed": false,
     "input": [
      "import requests\n",
      "import json\n",
      "import random\n",
      "import bs4"
     ],
     "language": "python",
     "metadata": {},
     "outputs": [],
     "prompt_number": 19
    },
    {
     "cell_type": "code",
     "collapsed": false,
     "input": [
      "opind = open('index.html', 'r')"
     ],
     "language": "python",
     "metadata": {},
     "outputs": [],
     "prompt_number": 34
    },
    {
     "cell_type": "code",
     "collapsed": false,
     "input": [
      "chtml = opind.read()"
     ],
     "language": "python",
     "metadata": {},
     "outputs": [],
     "prompt_number": 35
    },
    {
     "cell_type": "code",
     "collapsed": false,
     "input": [
      "print chtml.upper()"
     ],
     "language": "python",
     "metadata": {},
     "outputs": [
      {
       "output_type": "stream",
       "stream": "stdout",
       "text": [
        "<!DOCTYPE HTML>\n",
        "<HTML LANG=\"EN\">\n",
        "<HEAD>\n",
        "  <META CHARSET=\"UTF-8\">\n",
        "  <TITLE>COMPOHUB - FIND GAME JAMS</TITLE>\n",
        "  <LINK REL=\"STYLESHEET\" HREF=\"JAMHUB.CSS\" />\n",
        "  <LINK REL=\"STYLESHEET\" HREF=\"FONT.CSS\" />\n",
        "  <SCRIPT ASYNC SRC=\"//PAGEAD2.GOOGLESYNDICATION.COM/PAGEAD/JS/ADSBYGOOGLE.JS\"></SCRIPT>\n",
        "<!-- BANZ -->\n",
        "<INS CLASS=\"ADSBYGOOGLE\"\n",
        "     STYLE=\"DISPLAY:INLINE-BLOCK;WIDTH:468PX;HEIGHT:60PX\"\n",
        "     DATA-AD-CLIENT=\"CA-PUB-2716205862465403\"\n",
        "     DATA-AD-SLOT=\"9960979541\"></INS>\n",
        "<SCRIPT>\n",
        "(ADSBYGOOGLE = WINDOW.ADSBYGOOGLE || []).PUSH({});\n",
        "</SCRIPT>\n",
        "  <SCRIPT TYPE=\"TEXT/JAVASCRIPT\">VAR _GAQ=_GAQ||[];_GAQ.PUSH(['_SETACCOUNT','UA-27046573-1']);_GAQ.PUSH(['_TRACKPAGEVIEW']);(FUNCTION(){VAR GA=DOCUMENT.CREATEELEMENT('SCRIPT');GA.TYPE='TEXT/JAVASCRIPT';GA.ASYNC=TRUE;GA.SRC=('HTTPS:'==DOCUMENT.LOCATION.PROTOCOL?'HTTPS://SSL':'HTTP://WWW')+'.GOOGLE-ANALYTICS.COM/GA.JS';VAR S=DOCUMENT.GETELEMENTSBYTAGNAME('SCRIPT')[0];S.PARENTNODE.INSERTBEFORE(GA,S);})();</SCRIPT>\n",
        "\n",
        "</HEAD>\n",
        "<BODY>\n",
        "<SCRIPT TYPE=\"TEXT/JAVASCRIPT\">\n",
        "  IF (NAVIGATOR.APPVERSION.INDEXOF(\"WIN\") == -1) { DOCUMENT.BODY.CLASSNAME = \"NICE_FONTS\"; }\n",
        "</SCRIPT>\n",
        "\n",
        "<DIV CLASS=\"HEADER\">\n",
        "  <H1>COMPOHUB</H1>\n",
        "  <H2>FIND GAME JAMS</H1>\n",
        "  <DIV CLASS=\"HEADER_TOOLS\">\n",
        "    <A CLASS=\"BUTTON\" HREF=\"HTTPS://GITHUB.COM/LEAFO/COMPOHUB/TREE/MASTER/JAMS#HOW-TO-ADD-A-NEW-JAM\">SUBMIT A JAM</A>\n",
        "\n",
        "    <DIV CLASS=\"MULTI_SHARE\">\n",
        "      <DIV CLASS=\"TOP\">SHARE</DIV>\n",
        "      <DIV CLASS=\"ROW\">\n",
        "        <A CLASS=\"BUTTON\" REL=\"NOFOLLOW\" HREF=\"HTTP://WWW.FACEBOOK.COM/SHARER.PHP?S=100&AMP;P[TITLE]=COMPOHUB&AMP;P[SUMMARY]=COMPOHUB+LISTS+ALL+KINDS+OF+GAME+DEVELOPMENT+EVENTS%21&AMP;P[URL]=HTTP%3A%2F%2FCOMPOHUB.NET\">FACEBOOK</A>\n",
        "      </DIV>\n",
        "\n",
        "      <DIV CLASS=\"ROW\">\n",
        "        <A CLASS=\"BUTTON\" REL=\"NOFOLLOW\" HREF=\"HTTPS://PLUSONE.GOOGLE.COM/_/+1/CONFIRM?HL=EN&AMP;URL=HTTP%3A%2F%2FCOMPOHUB.NET\">GOOGLE+</A>\n",
        "      </DIV>\n",
        "\n",
        "      <DIV CLASS=\"ROW\">\n",
        "        <A CLASS=\"BUTTON\" REL=\"NOFOLLOW\" HREF=\"HTTP://TWITTER.COM/SHARE?URL=HTTP%3A%2F%2FCOMPOHUB.NET&AMP;TEXT=COMPOHUB+LISTS+ALL+KINDS+OF+GAME+DEVELOPMENT+EVENTS%21\">TWITTER</A>\n",
        "      </DIV>\n",
        "    </DIV>\n",
        "  </DIV>\n",
        "</DIV>\n",
        "\n",
        "<DIV CLASS=\"JAM_BROWSER\">\n",
        "</DIV>\n",
        "\n",
        "<DIV CLASS=\"JAM_LIST\">\n",
        "</DIV>\n",
        "\n",
        "<DIV CLASS=\"FOOTER\">\n",
        "  COMPOHUB IS OPENSOURCE,\n",
        "  <A HREF=\"HTTPS://GITHUB.COM/LEAFO/COMPOHUB\">VIEW ON GITHUB</A>\n",
        "  &MIDDOT;\n",
        "  FOLLOW\n",
        "  <A HREF=\"HTTPS://TWITTER.COM/COMPOHUB\">@COMPOHUB</A>\n",
        "  ON TWITTER\n",
        "</DIV>\n",
        "\n",
        "<SCRIPT TYPE=\"TEXT/JAVASCRIPT\" SRC=\"JQUERY-2.1.0.MIN.JS\"></SCRIPT>\n",
        "<SCRIPT TYPE=\"TEXT/JAVASCRIPT\" SRC=\"UNDERSCORE-MIN.JS\"></SCRIPT>\n",
        "<SCRIPT TYPE=\"TEXT/JAVASCRIPT\" SRC=\"MOMENT.MIN.JS\"></SCRIPT>\n",
        "<SCRIPT TYPE=\"TEXT/JAVASCRIPT\" SRC=\"JAMHUB.JS?2\"></SCRIPT>\n",
        "<SCRIPT TYPE=\"TEXT/JAVASCRIPT\">\n",
        "  NEW J.HEADER(\".HEADER\");\n",
        "  NEW J.CALENDAR(\".JAM_BROWSER\");\n",
        "</SCRIPT>\n",
        "</BODY>\n",
        "</HTML>\n",
        "\n"
       ]
      }
     ],
     "prompt_number": 38
    },
    {
     "cell_type": "code",
     "collapsed": false,
     "input": [
      "sphtml = bs4.BeautifulSoup(chtml)"
     ],
     "language": "python",
     "metadata": {},
     "outputs": [],
     "prompt_number": 40
    },
    {
     "cell_type": "code",
     "collapsed": false,
     "input": [
      "sphtml.title"
     ],
     "language": "python",
     "metadata": {},
     "outputs": [
      {
       "output_type": "pyout",
       "prompt_number": 42,
       "text": [
        "<title>CompoHub - Find game jams</title>"
       ]
      }
     ],
     "prompt_number": 42
    },
    {
     "cell_type": "code",
     "collapsed": false,
     "input": [
      "sphtml.find"
     ],
     "language": "python",
     "metadata": {},
     "outputs": []
    },
    {
     "cell_type": "code",
     "collapsed": false,
     "input": [
      "sphtml.contents"
     ],
     "language": "python",
     "metadata": {},
     "outputs": [
      {
       "output_type": "pyout",
       "prompt_number": 41,
       "text": [
        "[u'HTML',\n",
        " <html lang=\"en\">\n",
        "<head>\n",
        "<meta charset=\"utf-8\"/>\n",
        "<title>CompoHub - Find game jams</title>\n",
        "<link href=\"jamhub.css\" rel=\"stylesheet\"/>\n",
        "<link href=\"font.css\" rel=\"stylesheet\"/>\n",
        "<script async=\"\" src=\"//pagead2.googlesyndication.com/pagead/js/adsbygoogle.js\"></script>\n",
        "<!-- banz -->\n",
        "<ins class=\"adsbygoogle\" data-ad-client=\"ca-pub-2716205862465403\" data-ad-slot=\"9960979541\" style=\"display:inline-block;width:468px;height:60px\"></ins>\n",
        "<script>\n",
        "(adsbygoogle = window.adsbygoogle || []).push({});\n",
        "</script>\n",
        "<script type=\"text/javascript\">var _gaq=_gaq||[];_gaq.push(['_setAccount','UA-27046573-1']);_gaq.push(['_trackPageview']);(function(){var ga=document.createElement('script');ga.type='text/javascript';ga.async=true;ga.src=('https:'==document.location.protocol?'https://ssl':'http://www')+'.google-analytics.com/ga.js';var s=document.getElementsByTagName('script')[0];s.parentNode.insertBefore(ga,s);})();</script>\n",
        "</head>\n",
        "<body>\n",
        "<script type=\"text/javascript\">\n",
        "  if (navigator.appVersion.indexOf(\"Win\") == -1) { document.body.className = \"nice_fonts\"; }\n",
        "</script>\n",
        "<div class=\"header\">\n",
        "<h1>CompoHub</h1>\n",
        "<h2>Find game jams\n",
        "  <div class=\"header_tools\">\n",
        "<a class=\"button\" href=\"https://github.com/leafo/compohub/tree/master/jams#how-to-add-a-new-jam\">Submit a jam</a>\n",
        "<div class=\"multi_share\">\n",
        "<div class=\"top\">Share</div>\n",
        "<div class=\"row\">\n",
        "<a class=\"button\" href=\"http://www.facebook.com/sharer.php?s=100&amp;p[title]=CompoHub&amp;p[summary]=CompoHub+lists+all+kinds+of+game+development+events%21&amp;p[url]=http%3A%2F%2Fcompohub.net\" rel=\"nofollow\">Facebook</a>\n",
        "</div>\n",
        "<div class=\"row\">\n",
        "<a class=\"button\" href=\"https://plusone.google.com/_/+1/confirm?hl=en&amp;url=http%3A%2F%2Fcompohub.net\" rel=\"nofollow\">Google+</a>\n",
        "</div>\n",
        "<div class=\"row\">\n",
        "<a class=\"button\" href=\"http://twitter.com/share?url=http%3A%2F%2Fcompohub.net&amp;text=CompoHub+lists+all+kinds+of+game+development+events%21\" rel=\"nofollow\">Twitter</a>\n",
        "</div>\n",
        "</div>\n",
        "</div>\n",
        "</h2></div>\n",
        "<div class=\"jam_browser\">\n",
        "</div>\n",
        "<div class=\"jam_list\">\n",
        "</div>\n",
        "<div class=\"footer\">\n",
        "  CompoHub is opensource,\n",
        "  <a href=\"https://github.com/leafo/compohub\">view on GitHub</a>\n",
        "  \u00b7\n",
        "  follow\n",
        "  <a href=\"https://twitter.com/compohub\">@compohub</a>\n",
        "  on Twitter\n",
        "</div>\n",
        "<script src=\"jquery-2.1.0.min.js\" type=\"text/javascript\"></script>\n",
        "<script src=\"underscore-min.js\" type=\"text/javascript\"></script>\n",
        "<script src=\"moment.min.js\" type=\"text/javascript\"></script>\n",
        "<script src=\"jamhub.js?2\" type=\"text/javascript\"></script>\n",
        "<script type=\"text/javascript\">\n",
        "  new J.Header(\".header\");\n",
        "  new J.Calendar(\".jam_browser\");\n",
        "</script>\n",
        "</body>\n",
        "</html>,\n",
        " u'\\n']"
       ]
      }
     ],
     "prompt_number": 41
    },
    {
     "cell_type": "code",
     "collapsed": false,
     "input": [
      "'https://github.com/wcmckee/compohub'"
     ],
     "language": "python",
     "metadata": {},
     "outputs": [
      {
       "output_type": "pyout",
       "prompt_number": 8,
       "text": [
        "'https://github.com/wcmckee/compohub'"
       ]
      }
     ],
     "prompt_number": 8
    },
    {
     "cell_type": "code",
     "collapsed": false,
     "input": [
      "jamft = requests.get('https://raw.githubusercontent.com/leafo/compohub/master/jams/2014.json')\n",
      "\n",
      "compdict = json.loads(jamft.text)\n",
      "\n",
      "compjam = compdict[u'jams']\n",
      "\n",
      "lencomp = len(compjam)\n",
      "genlin = random.randint(0, lencomp)\n"
     ],
     "language": "python",
     "metadata": {},
     "outputs": [],
     "prompt_number": 10
    },
    {
     "cell_type": "code",
     "collapsed": false,
     "input": [
      "ggj = compjam[genlin]"
     ],
     "language": "python",
     "metadata": {},
     "outputs": [],
     "prompt_number": 11
    },
    {
     "cell_type": "code",
     "collapsed": false,
     "input": [
      "jamlis = []"
     ],
     "language": "python",
     "metadata": {},
     "outputs": [],
     "prompt_number": 12
    },
    {
     "cell_type": "code",
     "collapsed": false,
     "input": [
      "for jec in range(lencomp):\n",
      "    print compjam[jec][u'name']\n",
      "    jamlis.append(compjam[jec][u'name'])\n"
     ],
     "language": "python",
     "metadata": {},
     "outputs": [
      {
       "output_type": "stream",
       "stream": "stdout",
       "text": [
        "Global Game Jam 2014\n",
        "Nordic Game Jam\n",
        "Mini Ludum Dare #48\n",
        "One Game a Month\n",
        "One Game a Month\n",
        "One Game a Month\n",
        "One Game a Month\n",
        "LOWREZ Jam\n",
        "One Game a Month\n",
        "One Game a Month\n",
        "One Game a Month\n",
        "One Game a Month\n",
        "One Game a Month\n",
        "One Game a Month\n",
        "One Game a Month\n",
        "GMC JAM #13\n",
        "gm(48) #9\n",
        "Candy Jam\n",
        "7 Day Finish Yer Game Jam\n",
        "RR Mini Comp: One Screen Cassette 50\n",
        "GDSE Winter Game Jam\n",
        "Seven Day Roguelike Challenge\n",
        "The Arbitrary Gamejam\n",
        "Flappy Jam\n",
        "games++\n",
        "MiniLD #49\n",
        "Cyberpunk Game Jam 2014\n",
        "Ludum Dare 29\n",
        "Toronto Independent Game Jam\n",
        "FGL Game Jam\n",
        "BaconGameJam 07\n",
        "NaNoRenO 2014\n",
        "The Arbitrary Game Jam 8\n",
        "64Digits Spring Competition\n",
        "Procedural Death Jam\n",
        "MiniLD #50\n",
        "Pi Jam 2014\n",
        "Insanity Jam 2014\n",
        "PyWeek May 2014\n",
        "#1Up Norwich Game Jam\n",
        "2014 Spring GDSE GameJam\n",
        "Level up 2014\n",
        "The Arbitrary Gamejam 9\n",
        "Public Domain Jam\n",
        "Gender Jam\n",
        "HTML5 Game Jam Paris\n",
        "gm(48) #10\n",
        "The Arbitrary Gamejam 10\n",
        "Hack3city\n",
        "Game Changer Game Jam\n"
       ]
      }
     ],
     "prompt_number": 13
    },
    {
     "cell_type": "code",
     "collapsed": false,
     "input": [
      "fujamft = list(set(jamlis))\n"
     ],
     "language": "python",
     "metadata": {},
     "outputs": [],
     "prompt_number": 43
    },
    {
     "cell_type": "code",
     "collapsed": false,
     "input": [
      "print fujamft"
     ],
     "language": "python",
     "metadata": {},
     "outputs": [
      {
       "output_type": "stream",
       "stream": "stdout",
       "text": [
        "[u'games++', u'7 Day Finish Yer Game Jam', u'BaconGameJam 07', u'NaNoRenO 2014', u'Gender Jam', u'Hack3city', u'MiniLD #50', u'Pi Jam 2014', u'Public Domain Jam', u'Procedural Death Jam', u'64Digits Spring Competition', u'#1Up Norwich Game Jam', u'Flappy Jam', u'The Arbitrary Gamejam 9', u'GDSE Winter Game Jam', u'One Game a Month', u'Game Changer Game Jam', u'Seven Day Roguelike Challenge', u'Candy Jam', u'MiniLD #49', u'GMC JAM #13', u'FGL Game Jam', u'gm(48) #9', u'Level up 2014', u'The Arbitrary Gamejam', u'Mini Ludum Dare #48', u'The Arbitrary Game Jam 8', u'HTML5 Game Jam Paris', u'PyWeek May 2014', u'2014 Spring GDSE GameJam', u'The Arbitrary Gamejam 10', u'Insanity Jam 2014', u'gm(48) #10', u'Ludum Dare 29', u'Global Game Jam 2014', u'RR Mini Comp: One Screen Cassette 50', u'Nordic Game Jam', u'Cyberpunk Game Jam 2014', u'LOWREZ Jam', u'Toronto Independent Game Jam']\n"
       ]
      }
     ],
     "prompt_number": 44
    },
    {
     "cell_type": "code",
     "collapsed": false,
     "input": [
      "ls"
     ],
     "language": "python",
     "metadata": {},
     "outputs": [
      {
       "output_type": "stream",
       "stream": "stdout",
       "text": [
        "\u001b[0m\u001b[38;5;27mfont\u001b[0m/          jamhub.scss          \u001b[38;5;27mmisc\u001b[0m/             \u001b[38;5;27mtest\u001b[0m/\r\n",
        "font.css       \u001b[38;5;27mjams\u001b[0m/                moment.min.js     Tupfile\r\n",
        "index.html     jquery-2.1.0.min.js  package.json      underscore-min.js\r\n",
        "jamhub.coffee  LICENSE.md           pycompohub.ipynb\r\n",
        "jamhub.css     Makefile             README.md\r\n"
       ]
      }
     ],
     "prompt_number": 62
    },
    {
     "cell_type": "code",
     "collapsed": false,
     "input": [
      "cuja = open('curjam.html', 'a')"
     ],
     "language": "python",
     "metadata": {},
     "outputs": [],
     "prompt_number": 82
    },
    {
     "cell_type": "code",
     "collapsed": false,
     "input": [
      "cuja.write(fujamft)"
     ],
     "language": "python",
     "metadata": {},
     "outputs": [
      {
       "ename": "TypeError",
       "evalue": "expected a character buffer object",
       "output_type": "pyerr",
       "traceback": [
        "\u001b[1;31m---------------------------------------------------------------------------\u001b[0m\n\u001b[1;31mTypeError\u001b[0m                                 Traceback (most recent call last)",
        "\u001b[1;32m<ipython-input-83-3e82f6f0c7c4>\u001b[0m in \u001b[0;36m<module>\u001b[1;34m()\u001b[0m\n\u001b[1;32m----> 1\u001b[1;33m \u001b[0mcuja\u001b[0m\u001b[1;33m.\u001b[0m\u001b[0mwrite\u001b[0m\u001b[1;33m(\u001b[0m\u001b[0mfujamft\u001b[0m\u001b[1;33m)\u001b[0m\u001b[1;33m\u001b[0m\u001b[0m\n\u001b[0m",
        "\u001b[1;31mTypeError\u001b[0m: expected a character buffer object"
       ]
      }
     ],
     "prompt_number": 83
    },
    {
     "cell_type": "code",
     "collapsed": false,
     "input": [
      "%%bash\n",
      "rm -rf curjam.html"
     ],
     "language": "python",
     "metadata": {},
     "outputs": [],
     "prompt_number": 94
    },
    {
     "cell_type": "code",
     "collapsed": false,
     "input": [
      "ls"
     ],
     "language": "python",
     "metadata": {},
     "outputs": [
      {
       "output_type": "stream",
       "stream": "stdout",
       "text": [
        "\u001b[0m\u001b[38;5;27mfont\u001b[0m/          jamhub.scss          \u001b[38;5;27mmisc\u001b[0m/             \u001b[38;5;27mtest\u001b[0m/\r\n",
        "font.css       \u001b[38;5;27mjams\u001b[0m/                moment.min.js     Tupfile\r\n",
        "index.html     jquery-2.1.0.min.js  package.json      underscore-min.js\r\n",
        "jamhub.coffee  LICENSE.md           pycompohub.ipynb\r\n",
        "jamhub.css     Makefile             README.md\r\n"
       ]
      }
     ],
     "prompt_number": 95
    },
    {
     "cell_type": "code",
     "collapsed": false,
     "input": [
      "with open(\"curjam.html\", \"a\") as myfile:\n",
      "    myfile.write('2014: ')\n",
      "    myfile.close()"
     ],
     "language": "python",
     "metadata": {},
     "outputs": [],
     "prompt_number": 96
    },
    {
     "cell_type": "code",
     "collapsed": false,
     "input": [
      "%%bash\n",
      "cat curjam.html"
     ],
     "language": "python",
     "metadata": {},
     "outputs": [
      {
       "output_type": "stream",
       "stream": "stdout",
       "text": [
        "2014: games++ 7 Day Finish Yer Game Jam BaconGameJam 07 NaNoRenO 2014 Gender Jam Hack3city MiniLD #50 Pi Jam 2014 Public Domain Jam Procedural Death Jam 64Digits Spring Competition #1Up Norwich Game Jam Flappy Jam The Arbitrary Gamejam 9 GDSE Winter Game Jam One Game a Month Game Changer Game Jam Seven Day Roguelike Challenge Candy Jam MiniLD #49 GMC JAM #13 FGL Game Jam gm(48) #9 Level up 2014 The Arbitrary Gamejam Mini Ludum Dare #48 The Arbitrary Game Jam 8 HTML5 Game Jam Paris PyWeek May 2014 2014 Spring GDSE GameJam The Arbitrary Gamejam 10 Insanity Jam 2014 gm(48) #10 Ludum Dare 29 Global Game Jam 2014 RR Mini Comp: One Screen Cassette 50 Nordic Game Jam Cyberpunk Game Jam 2014 LOWREZ Jam Toronto Independent Game Jam "
       ]
      }
     ],
     "prompt_number": 99
    },
    {
     "cell_type": "code",
     "collapsed": false,
     "input": [
      "for jamz in fujamft:\n",
      "    print jamz\n",
      "    with open(\"curjam.html\", \"a\") as myfile:\n",
      "        myfile.write(jamz + ' ')\n",
      "        myfile.close()"
     ],
     "language": "python",
     "metadata": {},
     "outputs": [
      {
       "output_type": "stream",
       "stream": "stdout",
       "text": [
        "games++\n",
        "7 Day Finish Yer Game Jam\n",
        "BaconGameJam 07\n",
        "NaNoRenO 2014\n",
        "Gender Jam\n",
        "Hack3city\n",
        "MiniLD #50\n",
        "Pi Jam 2014\n",
        "Public Domain Jam\n",
        "Procedural Death Jam\n",
        "64Digits Spring Competition\n",
        "#1Up Norwich Game Jam\n",
        "Flappy Jam\n",
        "The Arbitrary Gamejam 9\n",
        "GDSE Winter Game Jam\n",
        "One Game a Month\n",
        "Game Changer Game Jam\n",
        "Seven Day Roguelike Challenge\n",
        "Candy Jam\n",
        "MiniLD #49\n",
        "GMC JAM #13\n",
        "FGL Game Jam\n",
        "gm(48) #9\n",
        "Level up 2014\n",
        "The Arbitrary Gamejam\n",
        "Mini Ludum Dare #48\n",
        "The Arbitrary Game Jam 8\n",
        "HTML5 Game Jam Paris\n",
        "PyWeek May 2014\n",
        "2014 Spring GDSE GameJam\n",
        "The Arbitrary Gamejam 10\n",
        "Insanity Jam 2014\n",
        "gm(48) #10\n",
        "Ludum Dare 29\n",
        "Global Game Jam 2014\n",
        "RR Mini Comp: One Screen Cassette 50\n",
        "Nordic Game Jam\n",
        "Cyberpunk Game Jam 2014\n",
        "LOWREZ Jam\n",
        "Toronto Independent Game Jam\n"
       ]
      }
     ],
     "prompt_number": 98
    },
    {
     "cell_type": "code",
     "collapsed": false,
     "input": [
      "from IPython.display import HTML\n",
      "HTML('<iframe src=http://artcontrol.me/ width=700 height=350></iframe>')"
     ],
     "language": "python",
     "metadata": {},
     "outputs": [
      {
       "html": [
        "<iframe src=http://artcontrol.me/ width=700 height=350></iframe>"
       ],
       "output_type": "pyout",
       "prompt_number": 91,
       "text": [
        "<IPython.core.display.HTML at 0x2ea7ad0>"
       ]
      }
     ],
     "prompt_number": 91
    },
    {
     "cell_type": "code",
     "collapsed": false,
     "input": [
      "h"
     ],
     "language": "python",
     "metadata": {},
     "outputs": [
      {
       "html": [
        "index.html"
       ],
       "output_type": "pyout",
       "prompt_number": 92,
       "text": [
        "<IPython.core.display.HTML at 0x2ea7090>"
       ]
      }
     ],
     "prompt_number": 92
    },
    {
     "cell_type": "code",
     "collapsed": false,
     "input": [
      "from html import HTML"
     ],
     "language": "python",
     "metadata": {},
     "outputs": [
      {
       "ename": "ImportError",
       "evalue": "No module named html",
       "output_type": "pyerr",
       "traceback": [
        "\u001b[1;31m---------------------------------------------------------------------------\u001b[0m\n\u001b[1;31mImportError\u001b[0m                               Traceback (most recent call last)",
        "\u001b[1;32m<ipython-input-60-0dce54146b19>\u001b[0m in \u001b[0;36m<module>\u001b[1;34m()\u001b[0m\n\u001b[1;32m----> 1\u001b[1;33m \u001b[1;32mfrom\u001b[0m \u001b[0mhtml\u001b[0m \u001b[1;32mimport\u001b[0m \u001b[0mHTML\u001b[0m\u001b[1;33m\u001b[0m\u001b[0m\n\u001b[0m",
        "\u001b[1;31mImportError\u001b[0m: No module named html"
       ]
      }
     ],
     "prompt_number": 60
    },
    {
     "cell_type": "code",
     "collapsed": false,
     "input": [],
     "language": "python",
     "metadata": {},
     "outputs": []
    }
   ],
   "metadata": {}
  }
 ]
}