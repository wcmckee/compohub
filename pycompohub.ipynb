{
 "metadata": {
  "name": "pycompohub"
 },
 "nbformat": 3,
 "nbformat_minor": 0,
 "worksheets": [
  {
   "cells": [
    {
     "cell_type": "code",
     "collapsed": false,
     "input": [
      "import requests\n",
      "import json\n",
      "import random\n",
      "import bs4"
     ],
     "language": "python",
     "metadata": {},
     "outputs": [],
     "prompt_number": 19
    },
    {
     "cell_type": "code",
     "collapsed": false,
     "input": [
      "opind = open('index.html', 'r')"
     ],
     "language": "python",
     "metadata": {},
     "outputs": [],
     "prompt_number": 34
    },
    {
     "cell_type": "code",
     "collapsed": false,
     "input": [
      "chtml = opind.read()"
     ],
     "language": "python",
     "metadata": {},
     "outputs": [],
     "prompt_number": 35
    },
    {
     "cell_type": "code",
     "collapsed": false,
     "input": [
      "print chtml.upper()"
     ],
     "language": "python",
     "metadata": {},
     "outputs": [
      {
       "output_type": "stream",
       "stream": "stdout",
       "text": [
        "<!DOCTYPE HTML>\n",
        "<HTML LANG=\"EN\">\n",
        "<HEAD>\n",
        "  <META CHARSET=\"UTF-8\">\n",
        "  <TITLE>COMPOHUB - FIND GAME JAMS</TITLE>\n",
        "  <LINK REL=\"STYLESHEET\" HREF=\"JAMHUB.CSS\" />\n",
        "  <LINK REL=\"STYLESHEET\" HREF=\"FONT.CSS\" />\n",
        "  <SCRIPT ASYNC SRC=\"//PAGEAD2.GOOGLESYNDICATION.COM/PAGEAD/JS/ADSBYGOOGLE.JS\"></SCRIPT>\n",
        "<!-- BANZ -->\n",
        "<INS CLASS=\"ADSBYGOOGLE\"\n",
        "     STYLE=\"DISPLAY:INLINE-BLOCK;WIDTH:468PX;HEIGHT:60PX\"\n",
        "     DATA-AD-CLIENT=\"CA-PUB-2716205862465403\"\n",
        "     DATA-AD-SLOT=\"9960979541\"></INS>\n",
        "<SCRIPT>\n",
        "(ADSBYGOOGLE = WINDOW.ADSBYGOOGLE || []).PUSH({});\n",
        "</SCRIPT>\n",
        "  <SCRIPT TYPE=\"TEXT/JAVASCRIPT\">VAR _GAQ=_GAQ||[];_GAQ.PUSH(['_SETACCOUNT','UA-27046573-1']);_GAQ.PUSH(['_TRACKPAGEVIEW']);(FUNCTION(){VAR GA=DOCUMENT.CREATEELEMENT('SCRIPT');GA.TYPE='TEXT/JAVASCRIPT';GA.ASYNC=TRUE;GA.SRC=('HTTPS:'==DOCUMENT.LOCATION.PROTOCOL?'HTTPS://SSL':'HTTP://WWW')+'.GOOGLE-ANALYTICS.COM/GA.JS';VAR S=DOCUMENT.GETELEMENTSBYTAGNAME('SCRIPT')[0];S.PARENTNODE.INSERTBEFORE(GA,S);})();</SCRIPT>\n",
        "\n",
        "</HEAD>\n",
        "<BODY>\n",
        "<SCRIPT TYPE=\"TEXT/JAVASCRIPT\">\n",
        "  IF (NAVIGATOR.APPVERSION.INDEXOF(\"WIN\") == -1) { DOCUMENT.BODY.CLASSNAME = \"NICE_FONTS\"; }\n",
        "</SCRIPT>\n",
        "\n",
        "<DIV CLASS=\"HEADER\">\n",
        "  <H1>COMPOHUB</H1>\n",
        "  <H2>FIND GAME JAMS</H1>\n",
        "  <DIV CLASS=\"HEADER_TOOLS\">\n",
        "    <A CLASS=\"BUTTON\" HREF=\"HTTPS://GITHUB.COM/LEAFO/COMPOHUB/TREE/MASTER/JAMS#HOW-TO-ADD-A-NEW-JAM\">SUBMIT A JAM</A>\n",
        "\n",
        "    <DIV CLASS=\"MULTI_SHARE\">\n",
        "      <DIV CLASS=\"TOP\">SHARE</DIV>\n",
        "      <DIV CLASS=\"ROW\">\n",
        "        <A CLASS=\"BUTTON\" REL=\"NOFOLLOW\" HREF=\"HTTP://WWW.FACEBOOK.COM/SHARER.PHP?S=100&AMP;P[TITLE]=COMPOHUB&AMP;P[SUMMARY]=COMPOHUB+LISTS+ALL+KINDS+OF+GAME+DEVELOPMENT+EVENTS%21&AMP;P[URL]=HTTP%3A%2F%2FCOMPOHUB.NET\">FACEBOOK</A>\n",
        "      </DIV>\n",
        "\n",
        "      <DIV CLASS=\"ROW\">\n",
        "        <A CLASS=\"BUTTON\" REL=\"NOFOLLOW\" HREF=\"HTTPS://PLUSONE.GOOGLE.COM/_/+1/CONFIRM?HL=EN&AMP;URL=HTTP%3A%2F%2FCOMPOHUB.NET\">GOOGLE+</A>\n",
        "      </DIV>\n",
        "\n",
        "      <DIV CLASS=\"ROW\">\n",
        "        <A CLASS=\"BUTTON\" REL=\"NOFOLLOW\" HREF=\"HTTP://TWITTER.COM/SHARE?URL=HTTP%3A%2F%2FCOMPOHUB.NET&AMP;TEXT=COMPOHUB+LISTS+ALL+KINDS+OF+GAME+DEVELOPMENT+EVENTS%21\">TWITTER</A>\n",
        "      </DIV>\n",
        "    </DIV>\n",
        "  </DIV>\n",
        "</DIV>\n",
        "\n",
        "<DIV CLASS=\"JAM_BROWSER\">\n",
        "</DIV>\n",
        "\n",
        "<DIV CLASS=\"JAM_LIST\">\n",
        "</DIV>\n",
        "\n",
        "<DIV CLASS=\"FOOTER\">\n",
        "  COMPOHUB IS OPENSOURCE,\n",
        "  <A HREF=\"HTTPS://GITHUB.COM/LEAFO/COMPOHUB\">VIEW ON GITHUB</A>\n",
        "  &MIDDOT;\n",
        "  FOLLOW\n",
        "  <A HREF=\"HTTPS://TWITTER.COM/COMPOHUB\">@COMPOHUB</A>\n",
        "  ON TWITTER\n",
        "</DIV>\n",
        "\n",
        "<SCRIPT TYPE=\"TEXT/JAVASCRIPT\" SRC=\"JQUERY-2.1.0.MIN.JS\"></SCRIPT>\n",
        "<SCRIPT TYPE=\"TEXT/JAVASCRIPT\" SRC=\"UNDERSCORE-MIN.JS\"></SCRIPT>\n",
        "<SCRIPT TYPE=\"TEXT/JAVASCRIPT\" SRC=\"MOMENT.MIN.JS\"></SCRIPT>\n",
        "<SCRIPT TYPE=\"TEXT/JAVASCRIPT\" SRC=\"JAMHUB.JS?2\"></SCRIPT>\n",
        "<SCRIPT TYPE=\"TEXT/JAVASCRIPT\">\n",
        "  NEW J.HEADER(\".HEADER\");\n",
        "  NEW J.CALENDAR(\".JAM_BROWSER\");\n",
        "</SCRIPT>\n",
        "</BODY>\n",
        "</HTML>\n",
        "\n"
       ]
      }
     ],
     "prompt_number": 38
    },
    {
     "cell_type": "code",
     "collapsed": false,
     "input": [
      "sphtml = bs4.BeautifulSoup(chtml)"
     ],
     "language": "python",
     "metadata": {},
     "outputs": [],
     "prompt_number": 40
    },
    {
     "cell_type": "code",
     "collapsed": false,
     "input": [
      "sphtml.title"
     ],
     "language": "python",
     "metadata": {},
     "outputs": [
      {
       "output_type": "pyout",
       "prompt_number": 42,
       "text": [
        "<title>CompoHub - Find game jams</title>"
       ]
      }
     ],
     "prompt_number": 42
    },
    {
     "cell_type": "code",
     "collapsed": false,
     "input": [
      "sphtml.contents"
     ],
     "language": "python",
     "metadata": {},
     "outputs": [
      {
       "output_type": "pyout",
       "prompt_number": 41,
       "text": [
        "[u'HTML',\n",
        " <html lang=\"en\">\n",
        "<head>\n",
        "<meta charset=\"utf-8\"/>\n",
        "<title>CompoHub - Find game jams</title>\n",
        "<link href=\"jamhub.css\" rel=\"stylesheet\"/>\n",
        "<link href=\"font.css\" rel=\"stylesheet\"/>\n",
        "<script async=\"\" src=\"//pagead2.googlesyndication.com/pagead/js/adsbygoogle.js\"></script>\n",
        "<!-- banz -->\n",
        "<ins class=\"adsbygoogle\" data-ad-client=\"ca-pub-2716205862465403\" data-ad-slot=\"9960979541\" style=\"display:inline-block;width:468px;height:60px\"></ins>\n",
        "<script>\n",
        "(adsbygoogle = window.adsbygoogle || []).push({});\n",
        "</script>\n",
        "<script type=\"text/javascript\">var _gaq=_gaq||[];_gaq.push(['_setAccount','UA-27046573-1']);_gaq.push(['_trackPageview']);(function(){var ga=document.createElement('script');ga.type='text/javascript';ga.async=true;ga.src=('https:'==document.location.protocol?'https://ssl':'http://www')+'.google-analytics.com/ga.js';var s=document.getElementsByTagName('script')[0];s.parentNode.insertBefore(ga,s);})();</script>\n",
        "</head>\n",
        "<body>\n",
        "<script type=\"text/javascript\">\n",
        "  if (navigator.appVersion.indexOf(\"Win\") == -1) { document.body.className = \"nice_fonts\"; }\n",
        "</script>\n",
        "<div class=\"header\">\n",
        "<h1>CompoHub</h1>\n",
        "<h2>Find game jams\n",
        "  <div class=\"header_tools\">\n",
        "<a class=\"button\" href=\"https://github.com/leafo/compohub/tree/master/jams#how-to-add-a-new-jam\">Submit a jam</a>\n",
        "<div class=\"multi_share\">\n",
        "<div class=\"top\">Share</div>\n",
        "<div class=\"row\">\n",
        "<a class=\"button\" href=\"http://www.facebook.com/sharer.php?s=100&amp;p[title]=CompoHub&amp;p[summary]=CompoHub+lists+all+kinds+of+game+development+events%21&amp;p[url]=http%3A%2F%2Fcompohub.net\" rel=\"nofollow\">Facebook</a>\n",
        "</div>\n",
        "<div class=\"row\">\n",
        "<a class=\"button\" href=\"https://plusone.google.com/_/+1/confirm?hl=en&amp;url=http%3A%2F%2Fcompohub.net\" rel=\"nofollow\">Google+</a>\n",
        "</div>\n",
        "<div class=\"row\">\n",
        "<a class=\"button\" href=\"http://twitter.com/share?url=http%3A%2F%2Fcompohub.net&amp;text=CompoHub+lists+all+kinds+of+game+development+events%21\" rel=\"nofollow\">Twitter</a>\n",
        "</div>\n",
        "</div>\n",
        "</div>\n",
        "</h2></div>\n",
        "<div class=\"jam_browser\">\n",
        "</div>\n",
        "<div class=\"jam_list\">\n",
        "</div>\n",
        "<div class=\"footer\">\n",
        "  CompoHub is opensource,\n",
        "  <a href=\"https://github.com/leafo/compohub\">view on GitHub</a>\n",
        "  \u00b7\n",
        "  follow\n",
        "  <a href=\"https://twitter.com/compohub\">@compohub</a>\n",
        "  on Twitter\n",
        "</div>\n",
        "<script src=\"jquery-2.1.0.min.js\" type=\"text/javascript\"></script>\n",
        "<script src=\"underscore-min.js\" type=\"text/javascript\"></script>\n",
        "<script src=\"moment.min.js\" type=\"text/javascript\"></script>\n",
        "<script src=\"jamhub.js?2\" type=\"text/javascript\"></script>\n",
        "<script type=\"text/javascript\">\n",
        "  new J.Header(\".header\");\n",
        "  new J.Calendar(\".jam_browser\");\n",
        "</script>\n",
        "</body>\n",
        "</html>,\n",
        " u'\\n']"
       ]
      }
     ],
     "prompt_number": 41
    },
    {
     "cell_type": "code",
     "collapsed": false,
     "input": [
      "'https://github.com/wcmckee/compohub'"
     ],
     "language": "python",
     "metadata": {},
     "outputs": [
      {
       "output_type": "pyout",
       "prompt_number": 8,
       "text": [
        "'https://github.com/wcmckee/compohub'"
       ]
      }
     ],
     "prompt_number": 8
    },
    {
     "cell_type": "code",
     "collapsed": false,
     "input": [
      "jamft = requests.get('https://raw.githubusercontent.com/leafo/compohub/master/jams/2014.json')\n",
      "\n",
      "compdict = json.loads(jamft.text)\n",
      "\n",
      "compjam = compdict[u'jams']\n",
      "\n",
      "lencomp = len(compjam)\n",
      "genlin = random.randint(0, lencomp)\n"
     ],
     "language": "python",
     "metadata": {},
     "outputs": [],
     "prompt_number": 10
    },
    {
     "cell_type": "code",
     "collapsed": false,
     "input": [
      "ggj = compjam[genlin]"
     ],
     "language": "python",
     "metadata": {},
     "outputs": [],
     "prompt_number": 11
    },
    {
     "cell_type": "code",
     "collapsed": false,
     "input": [
      "jamlis = []"
     ],
     "language": "python",
     "metadata": {},
     "outputs": [],
     "prompt_number": 12
    },
    {
     "cell_type": "code",
     "collapsed": false,
     "input": [
      "for jec in range(lencomp):\n",
      "    print compjam[jec][u'name']\n",
      "    jamlis.append(compjam[jec][u'name'])\n"
     ],
     "language": "python",
     "metadata": {},
     "outputs": [
      {
       "output_type": "stream",
       "stream": "stdout",
       "text": [
        "Global Game Jam 2014\n",
        "Nordic Game Jam\n",
        "Mini Ludum Dare #48\n",
        "One Game a Month\n",
        "One Game a Month\n",
        "One Game a Month\n",
        "One Game a Month\n",
        "LOWREZ Jam\n",
        "One Game a Month\n",
        "One Game a Month\n",
        "One Game a Month\n",
        "One Game a Month\n",
        "One Game a Month\n",
        "One Game a Month\n",
        "One Game a Month\n",
        "GMC JAM #13\n",
        "gm(48) #9\n",
        "Candy Jam\n",
        "7 Day Finish Yer Game Jam\n",
        "RR Mini Comp: One Screen Cassette 50\n",
        "GDSE Winter Game Jam\n",
        "Seven Day Roguelike Challenge\n",
        "The Arbitrary Gamejam\n",
        "Flappy Jam\n",
        "games++\n",
        "MiniLD #49\n",
        "Cyberpunk Game Jam 2014\n",
        "Ludum Dare 29\n",
        "Toronto Independent Game Jam\n",
        "FGL Game Jam\n",
        "BaconGameJam 07\n",
        "NaNoRenO 2014\n",
        "The Arbitrary Game Jam 8\n",
        "64Digits Spring Competition\n",
        "Procedural Death Jam\n",
        "MiniLD #50\n",
        "Pi Jam 2014\n",
        "Insanity Jam 2014\n",
        "PyWeek May 2014\n",
        "#1Up Norwich Game Jam\n",
        "2014 Spring GDSE GameJam\n",
        "Level up 2014\n",
        "The Arbitrary Gamejam 9\n",
        "Public Domain Jam\n",
        "Gender Jam\n",
        "HTML5 Game Jam Paris\n",
        "gm(48) #10\n",
        "The Arbitrary Gamejam 10\n",
        "Hack3city\n",
        "Game Changer Game Jam\n"
       ]
      }
     ],
     "prompt_number": 13
    },
    {
     "cell_type": "code",
     "collapsed": false,
     "input": [],
     "language": "python",
     "metadata": {},
     "outputs": []
    }
   ],
   "metadata": {}
  }
 ]
}